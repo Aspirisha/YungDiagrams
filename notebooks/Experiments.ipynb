{
 "cells": [
  {
   "cell_type": "code",
   "execution_count": 128,
   "metadata": {},
   "outputs": [
    {
     "name": "stderr",
     "output_type": "stream",
     "text": [
      "c:\\users\\андрей\\appdata\\local\\programs\\python\\python35\\lib\\site-packages\\matplotlib\\__init__.py:1405: UserWarning: \n",
      "This call to matplotlib.use() has no effect because the backend has already\n",
      "been chosen; matplotlib.use() must be called *before* pylab, matplotlib.pyplot,\n",
      "or matplotlib.backends is imported for the first time.\n",
      "\n",
      "  warnings.warn(_use_error_msg)\n"
     ]
    }
   ],
   "source": [
    "#%matplotlib inline\n",
    "import matplotlib\n",
    "matplotlib.use('GTKAgg') \n",
    "%matplotlib notebook\n",
    "\n",
    "from mpl_toolkits.mplot3d import Axes3D\n",
    "\n",
    "import matplotlib.pyplot as plt\n",
    "import numpy as np\n",
    "import re\n",
    "from pythreejs import *\n",
    "from IPython.display import display\n",
    "from ipywidgets import HTML, Text, IntSlider\n",
    "from traitlets import link, dlink\n",
    "\n"
   ]
  },
  {
   "cell_type": "code",
   "execution_count": 129,
   "metadata": {
    "collapsed": true
   },
   "outputs": [],
   "source": [
    "def RGBToHTMLColor(rgb_tuple):\n",
    "    \"\"\" convert an (R, G, B) tuple to #RRGGBB \"\"\"\n",
    "    hexcolor = '#%02x%02x%02x' % rgb_tuple\n",
    "    return hexcolor\n",
    "\n",
    "def visualize_3D_diagram(diagram_path):\n",
    "    with open(diagram3d_path, \"r\") as f:\n",
    "        rows = [[int(x) for x in l.split(' ') if re.match(\"\\d+\", x)] for l in f ]\n",
    "    \n",
    "    m = np.zeros((len(rows), len(rows[0])))\n",
    "    boxes = []\n",
    "    \n",
    "    width = 50.0 / len(rows)\n",
    "    depth = 50.0 / len(rows[0])\n",
    "    max_height = rows[0][0]\n",
    "    for i, r in enumerate(rows):\n",
    "        for j, w in enumerate(r):\n",
    "            m[i][j] = w\n",
    "             \n",
    "            color=RGBToHTMLColor((w * 255 // max_height, w * 127 // max_height, 255 - w * 255 // max_height))\n",
    "            #vertexColors = [RGBToHTMLColor((i // 4 * 255, i // 4 * 255, i // 4 * 255) for i in range(8)]\n",
    "            material = LambertMaterial(color=color,opacity=1,transparent=False)\n",
    "            geometry = BoxGeometry(width=width, height=w, depth=depth, material=material)\n",
    "            #geometry.width\n",
    "            \n",
    "            box = Mesh(geometry=geometry,material=material)\n",
    "            box.position = [i * width, -w/2, j * depth]\n",
    "            \n",
    "            boxes.append(box)\n",
    "                \n",
    "    c = PerspectiveCamera(position=[10, -15, 5],\n",
    "        children=[DirectionalLight(color='white', position=[8, 8, 2], intensity=0.5)])\n",
    "    boxes.append(AmbientLight(color=\"#777777\"))\n",
    "    scene = Scene(children=boxes)\n",
    "    # p = Picker(event='mousemove', root=sphere)\n",
    "    renderer = Renderer(camera=c, scene = scene, controls=[OrbitControls(controlling=c)])\n",
    "    # coords = Text()   from where is the Text, what should this do???\n",
    "    # display(coords)   we have no Text, so no display...\n",
    "    sphere.position = [10, 0, 0]\n",
    "    display(renderer)\n",
    "    \n",
    "   "
   ]
  },
  {
   "cell_type": "code",
   "execution_count": 131,
   "metadata": {
    "scrolled": true
   },
   "outputs": [
    {
     "data": {
      "application/vnd.jupyter.widget-view+json": {
       "model_id": "ae436d217698435696e8749b0f759dc7",
       "version_major": 2,
       "version_minor": 0
      },
      "text/plain": [
       "A Jupyter Widget"
      ]
     },
     "metadata": {},
     "output_type": "display_data"
    }
   ],
   "source": [
    "diagram3d_path = \"diagram_samples/hooks3D.txt\"\n",
    "visualize_3D_diagram(diagram3d_path)"
   ]
  },
  {
   "cell_type": "code",
   "execution_count": null,
   "metadata": {
    "collapsed": true
   },
   "outputs": [],
   "source": []
  }
 ],
 "metadata": {
  "kernelspec": {
   "display_name": "Python 3",
   "language": "python",
   "name": "python3"
  },
  "language_info": {
   "codemirror_mode": {
    "name": "ipython",
    "version": 3
   },
   "file_extension": ".py",
   "mimetype": "text/x-python",
   "name": "python",
   "nbconvert_exporter": "python",
   "pygments_lexer": "ipython3",
   "version": "3.5.2"
  }
 },
 "nbformat": 4,
 "nbformat_minor": 2
}
